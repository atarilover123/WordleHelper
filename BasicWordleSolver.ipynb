{
  "nbformat": 4,
  "nbformat_minor": 0,
  "metadata": {
    "colab": {
      "name": "BasicWordleSolver.ipynb",
      "provenance": [],
      "collapsed_sections": [],
      "authorship_tag": "ABX9TyN/m9mj6pBYk1cKFWXxONeP",
      "include_colab_link": true
    },
    "kernelspec": {
      "name": "python3",
      "display_name": "Python 3"
    },
    "language_info": {
      "name": "python"
    }
  },
  "cells": [
    {
      "cell_type": "markdown",
      "metadata": {
        "id": "view-in-github",
        "colab_type": "text"
      },
      "source": [
        "<a href=\"https://colab.research.google.com/github/atarilover123/WordleHelper/blob/main/BasicWordleSolver.ipynb\" target=\"_parent\"><img src=\"https://colab.research.google.com/assets/colab-badge.svg\" alt=\"Open In Colab\"/></a>"
      ]
    },
    {
      "cell_type": "code",
      "source": [
        "#clone repository including list of words\n",
        "!git clone https://github.com/dwyl/english-words"
      ],
      "metadata": {
        "id": "yzrmo4l7Y9WQ"
      },
      "execution_count": null,
      "outputs": []
    },
    {
      "cell_type": "code",
      "source": [
        "#create csv of words of only 5 letters \n",
        "import json\n",
        "import csv\n",
        "\n",
        "words = open('/content/english-words/words_dictionary.json')\n",
        "words = json.load(words)\n",
        "\n",
        "word_csv = open('/content/words.csv', 'w')\n",
        "writecsv = csv.writer(word_csv)\n",
        "\n",
        "for i in words:\n",
        "\n",
        "  if len(i) == 5:\n",
        "      #print(len(i), i)\n",
        "      writecsv.writerow(i)\n",
        "\n",
        "word_csv.close()"
      ],
      "metadata": {
        "id": "pdmTJCJtILql"
      },
      "execution_count": 2,
      "outputs": []
    },
    {
      "cell_type": "code",
      "source": [
        "import csv\n",
        "\n",
        "l0 =('s')\n",
        "l1 = ('a')\n",
        "l2 = ('')\n",
        "l3 = ('')\n",
        "l4 = ('r')\n",
        "\n",
        "incorrect = 'f,b,g,c,d,x,k,z,l,m,n,o,p'\n",
        "\n",
        "fivers = csv.reader(open('/content/words.csv', \"r\"), delimiter=\",\")\n",
        "\n",
        "for row in fivers:\n",
        "    score = 0\n",
        "    if l0 == row[0] and l1 == row[1] or l2 == row[2] or l3 == row[3] and l4 == row[4]:\n",
        "      \n",
        "      for i in range(5):\n",
        "        for j in range(len(incorrect)):\n",
        "          if row[i] == incorrect[j]:\n",
        "            score+=1\n",
        "      \n",
        "      if score == 0:\n",
        "          print(row)"
      ],
      "metadata": {
        "colab": {
          "base_uri": "https://localhost:8080/"
        },
        "id": "qAxjd-EAOSYU",
        "outputId": "028aa6ca-e7b6-460e-f30d-2cfe35289efb"
      },
      "execution_count": 3,
      "outputs": [
        {
          "output_type": "stream",
          "name": "stdout",
          "text": [
            "['s', 'a', 'e', 't', 'a']\n",
            "['s', 'a', 'y', 'e', 'e']\n",
            "['s', 'a', 'y', 'e', 'r']\n",
            "['s', 'a', 'i', 'r', 'y']\n",
            "['s', 'a', 'y', 's', 't']\n",
            "['s', 'a', 'i', 't', 'e']\n",
            "['s', 'a', 'i', 't', 'h']\n",
            "['s', 'a', 'i', 'v', 'a']\n",
            "['s', 'a', 'r', 'a', 'h']\n",
            "['s', 'a', 'r', 'e', 'e']\n",
            "['s', 'a', 'r', 'i', 's']\n",
            "['s', 'a', 'r', 'r', 'a']\n",
            "['s', 'a', 'r', 's', 'a']\n",
            "['s', 'a', 'r', 's', 'i']\n",
            "['s', 'a', 'r', 'u', 's']\n",
            "['s', 'a', 's', 's', 'e']\n",
            "['s', 'a', 's', 's', 'y']\n",
            "['s', 'a', 't', 'a', 'i']\n",
            "['s', 'a', 't', 'e', 's']\n",
            "['s', 'a', 't', 'y', 'r']\n",
            "['s', 'a', 't', 'i', 's']\n",
            "['s', 'a', 'u', 'r', 'a']\n",
            "['s', 'a', 'u', 'r', 'y']\n",
            "['s', 'a', 'u', 't', 'e']\n",
            "['s', 'a', 'u', 't', 'y']\n",
            "['s', 'a', 'u', 'v', 'e']\n",
            "['s', 'a', 'v', 'e', 'y']\n",
            "['s', 'a', 'v', 'e', 'r']\n",
            "['s', 'a', 'v', 'e', 's']\n",
            "['s', 'a', 'v', 'v', 'y']\n",
            "['s', 'a', 'w', 'a', 'h']\n",
            "['s', 'a', 'w', 'e', 'r']\n"
          ]
        }
      ]
    }
  ]
}